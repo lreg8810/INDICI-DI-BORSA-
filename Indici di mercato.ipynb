{
 "cells": [
  {
   "cell_type": "markdown",
   "id": "65d1bea5-588b-47b9-b7bc-34d61ba35013",
   "metadata": {},
   "source": [
    "# GLI INDICI DI BORSA "
   ]
  },
  {
   "cell_type": "markdown",
   "id": "e9da20af-57e7-4c4e-83f8-4901587b491c",
   "metadata": {},
   "source": [
    "l’indice è un numero sintetico rappresentativo dell’andamento di un insieme di titoli. Esprime in modo \n",
    "sintetico la performance, la variazione, l’andamento che ha interessato una numerosità di titolo, raccoglie \n",
    "la storia dei diversi titoli che sono stati presi come paniere. Il paniere non è altro che un insieme di titoli. \n",
    "Il benchmark in un mercato finanziario è un paniere di titoli che è di riferimento rispetto ad un determinato \n",
    "settore geografico o settore industriale o un determinato sottoinsieme di società per diversa dimensione. \n",
    "Quindi gli indici oltre ad una valenza informativa hanno una forte valenza operativa in quanto alcuni gestori \n",
    "possono prendere questi panieri come riferimento per i loro investimenti, comprando quei titoli, e \n",
    "performando per il valore della variazione che subisce il portafoglio. Il gestore può replicare il benchmark \n",
    "(gestione passiva) o cercare di far meglio del benchmark (gestione attiva), che è collegata alle ipotesi che il \n",
    "gestore fa circa l’andamento e le caratteristiche di efficienza informativa del mercato. \n",
    "Se i mercati sono efficienti sul piano informativo, allora tutta l’informazione si sconta sul prezzo e non \n",
    "risulta conveniente cercare informazioni private, in quanto i costi da sostenere potrebbero essere superiori \n",
    "ai benefici. In questi casi conviene vendere il benchmark, che si vendano prodotti molto semplici, quali gli \n",
    "ETF, gestiti da software che replicano identicamente l’indice.\n",
    "Se invece un gestore ritiene che ci il mercato sia inefficiente, conviene investire per cercare di cogliere il \n",
    "valore dell’informazione facendo gestione attiva. \n",
    "Ci sono 4 modalità di calcolo di un indice: price weighted, equally weighted, value weighted e free float \n",
    "adjusted. L’indice si calcola facendo la media ponderata delle variazioni sei singoli titoli che compongono il \n",
    "paniere. Quindi cambiando modalità di calcolo, non si cambia la formula ma solo il criterio di ponderazione."
   ]
  },
  {
   "cell_type": "markdown",
   "id": "134660c6-4bee-4aef-9c13-d4c9e51d902f",
   "metadata": {},
   "source": [
    "### Indici price weighted (dow jones) \n",
    "Ogni titolo contribuisce alla variazione dell’indice in base al proprio prezzo, alla rilevanza del proprio prezzo \n",
    "sul prezzo complessivo di mercato. La logica di ponderazione è che la variazione dei prezzi dei titoli sottesi \n",
    "dall’indice contribuisce alla variazione dello stesso in proporzione al prezzo di ognuno.\n"
   ]
  },
  {
   "cell_type": "code",
   "execution_count": 2,
   "id": "6c04124a-6922-49ae-924f-e845672f5d25",
   "metadata": {},
   "outputs": [
    {
     "name": "stdout",
     "output_type": "stream",
     "text": [
      "Variazioni percentuali: [20.0, -20.0, 1.0]\n",
      "Pesos delle azioni: [0.9009009009009009, 9.00900900900901, 90.09009009009009]\n",
      "Variazioni percentuali pesate: [0.1801801801801802, -1.8018018018018018, 0.9009009009009009]\n",
      "Valore dell'indice price-weighted: -0.7207207207207208\n"
     ]
    }
   ],
   "source": [
    "# Dati dei prezzi delle azioni\n",
    "P0 = [10, 100, 1000]  # Prezzi iniziali\n",
    "P1 = [12, 80, 1010]   # Prezzi finali\n",
    "\n",
    "# Calcola le variazioni percentuali per ogni azione\n",
    "percentage_changes = [(P1[i] - P0[i]) / P0[i] * 100 for i in range(len(P0))]\n",
    "\n",
    "# Somma dei prezzi iniziali per calcolare i pesi delle azioni\n",
    "total_P0 = sum(P0)\n",
    "\n",
    "# Calcola i pesi delle azioni\n",
    "weights = [P0[i] / total_P0 * 100 for i in range(len(P0))]\n",
    "\n",
    "# Calcola le variazioni percentuali pesate per ogni azione\n",
    "weighted_percentage_changes = [percentage_changes[i] * weights[i] / 100 for i in range(len(P0))]\n",
    "\n",
    "# Calcola il valore dell'indice price-weighted\n",
    "price_weighted_index = sum(weighted_percentage_changes)\n",
    "\n",
    "print(\"Variazioni percentuali:\", percentage_changes)\n",
    "print(\"Pesos delle azioni:\", weights)\n",
    "print(\"Variazioni percentuali pesate:\", weighted_percentage_changes)\n",
    "print(\"Valore dell'indice price-weighted:\", price_weighted_index)\n"
   ]
  },
  {
   "cell_type": "markdown",
   "id": "55925a60-0034-4280-922a-527d99f06b26",
   "metadata": {},
   "source": [
    "### Indici equally weighted\n",
    "Ogni titolo contribuisce alla variazione dell’indice allo stesso modo. La logica di ponderazione è che la \n",
    "variazione dei prezzi dei titoli sottesi dall’indice contribuisce alla variazione dello stesso in proporzioni \n",
    "uguali (1/n) "
   ]
  },
  {
   "cell_type": "code",
   "execution_count": 3,
   "id": "5c4bab72-372c-47af-8d61-684bd1095d87",
   "metadata": {},
   "outputs": [
    {
     "name": "stdout",
     "output_type": "stream",
     "text": [
      "Variazioni percentuali: [20.0, -20.0, 1.0]\n",
      "Ponderazione comune (1/n): 33.33333333333333\n",
      "Variazioni percentuali pesate: [6.666666666666665, -6.666666666666665, 0.33333333333333326]\n",
      "Valore dell'indice price-weighted: 0.33333333333333326\n"
     ]
    }
   ],
   "source": [
    "# Dati dei prezzi delle azioni\n",
    "P0 = [10, 100, 1000]  # Prezzi iniziali\n",
    "P1 = [12, 80, 1010]   # Prezzi finali\n",
    "\n",
    "# Calcola le variazioni percentuali per ogni azione\n",
    "percentage_changes = [(P1[i] - P0[i]) / P0[i] * 100 for i in range(len(P0))]\n",
    "\n",
    "# Calcola la ponderazione comune (1/n) per le azioni\n",
    "n = len(P0)\n",
    "weight = 1 / n * 100\n",
    "\n",
    "# Calcola le variazioni percentuali pesate (ogni titolo ha lo stesso peso)\n",
    "weighted_percentage_changes = [percentage_changes[i] * weight / 100 for i in range(len(P0))]\n",
    "\n",
    "# Calcola il valore dell'indice price-weighted\n",
    "price_weighted_index = sum(weighted_percentage_changes)\n",
    "\n",
    "print(\"Variazioni percentuali:\", percentage_changes)\n",
    "print(\"Ponderazione comune (1/n):\", weight)\n",
    "print(\"Variazioni percentuali pesate:\", weighted_percentage_changes)\n",
    "print(\"Valore dell'indice price-weighted:\", price_weighted_index)\n"
   ]
  },
  {
   "cell_type": "markdown",
   "id": "582a8209-736b-4a11-8102-5244bce6d542",
   "metadata": {},
   "source": [
    "### Indici value weighted (S&P) \n",
    "Ogni titolo contribuisce alla variazione dell’indice in base alla propria capitalizzazione, alla rilevanza della \n",
    "propria capitalizzazione sulla capitalizzazione di borsa. La logica di ponderazione è che la variazione dei \n",
    "prezzi dei titoli sottesi dall’indice contribuisce alla variazione dello stesso in proporzione alla \n",
    "capitalizzazione di ognuno. \n",
    "\n",
    "Per calcolare questo indice dobbiamo utilizzare un’informazione in più rispetto ai precedenti, ossia il \n",
    "numero di azioni emesse dalla società. La somma delle 3 capitalizzazioni dà una variabile molto importante, \n",
    "che è definita capitalizzazione di borsa. "
   ]
  },
  {
   "cell_type": "code",
   "execution_count": 9,
   "id": "06034fd0-1a76-487a-aa2d-c85260c66d68",
   "metadata": {},
   "outputs": [
    {
     "name": "stdout",
     "output_type": "stream",
     "text": [
      "Variazioni percentuali: [20.0, -20.0, 1.0]\n",
      "Capitalizzazioni di mercato iniziali: [1000, 100000, 10000]\n",
      "Pesos delle azioni basati su capitalizzazione iniziale e numero di azioni: [0.009009009009009009, 0.9009009009009009, 0.09009009009009009]\n",
      "Variazioni percentuali pesate: [0.18018018018018017, -18.01801801801802, 0.09009009009009009]\n",
      "Valore dell'indice value-weighted: -17.74774774774775\n"
     ]
    }
   ],
   "source": [
    "# Dati delle azioni\n",
    "num_shares = [100, 1000, 10]  # Numero di azioni emesse da ciascuna società\n",
    "P0 = [10, 100, 1000]  # Prezzi iniziali\n",
    "P1 = [12, 80, 1010]  # Prezzi finali\n",
    "\n",
    "# Calcola le capitalizzazioni di mercato iniziali\n",
    "initial_market_caps = [P0[i] * num_shares[i] for i in range(len(P0))]\n",
    "\n",
    "# Calcola la somma delle capitalizzazioni di mercato iniziali\n",
    "total_initial_market_cap = sum(initial_market_caps)\n",
    "\n",
    "# Calcola i pesi delle azioni basati sulla capitalizzazione di mercato iniziale e il numero di azioni\n",
    "weights = [(cap / total_initial_market_cap) for cap in initial_market_caps]\n",
    "\n",
    "# Calcola le variazioni percentuali per ogni azione\n",
    "percentage_changes = [(P1[i] - P0[i]) / P0[i] * 100 for i in range(len(P0))]\n",
    "\n",
    "# Calcola le variazioni percentuali pesate per ogni azione\n",
    "weighted_percentage_changes = [percentage_changes[i] * weights[i] for i in range(len(P0))]\n",
    "\n",
    "# Calcola il valore dell'indice value-weighted\n",
    "value_weighted_index = sum(weighted_percentage_changes)\n",
    "\n",
    "print(\"Variazioni percentuali:\", percentage_changes)\n",
    "print(\"Capitalizzazioni di mercato iniziali:\", initial_market_caps)\n",
    "print(\"Pesos delle azioni basati su capitalizzazione iniziale e numero di azioni:\", weights)\n",
    "print(\"Variazioni percentuali pesate:\", weighted_percentage_changes)\n",
    "print(\"Valore dell'indice value-weighted:\", value_weighted_index)\n"
   ]
  },
  {
   "cell_type": "markdown",
   "id": "0f4b6603-d678-42f6-a9e6-22ae9960f27a",
   "metadata": {},
   "source": [
    "Per calcolare questo indice dobbiamo utilizzare un’informazione in più rispetto ai precedenti, ossia il \n",
    "numero di azioni emesse dalla società. La somma delle 3 capitalizzazioni dà una variabile molto importante, \n",
    "che è definita capitalizzazione di borsa."
   ]
  },
  {
   "cell_type": "markdown",
   "id": "9bf8ad05-a9ef-4390-bd7b-d20c74eb9dec",
   "metadata": {},
   "source": [
    "### Indici free-float adjusted (FTSE)\n",
    "Ogni titolo contribuisce alla variazione dell’indice in base al proprio flottante, alla rilevanza del proprio \n",
    "flottante sul flottante complessivo di mercato. La logica di ponderazione è che la variazione dei prezzi dei \n",
    "titoli sottesi dall’indice contribuisce alla variazione dello stesso in proporzione al flottante di ognuno"
   ]
  },
  {
   "cell_type": "code",
   "execution_count": 17,
   "id": "ec2d1847-b48a-4bc7-8b3b-e97359aeec6a",
   "metadata": {},
   "outputs": [
    {
     "name": "stdout",
     "output_type": "stream",
     "text": [
      "Flottante percentuale (Flott%): [0.9, 0.2, 0.3]\n",
      "Flottante percentuale totale (FF) per ciascuna azione: [0.6428571428571428, 0.14285714285714285, 0.21428571428571425]\n",
      "Pesos delle azioni basati sul flottante percentuale (Flott%): [0.6428571428571428, 0.14285714285714285, 0.21428571428571425]\n",
      "Variazioni percentuali: [20.0, -20.0, 1.0]\n",
      "Variazioni percentuali pesate: [12.857142857142856, -2.8571428571428568, 0.21428571428571425]\n",
      "Valore dell'indice ponderato in base al flottante (FFA): 10.214285714285714\n"
     ]
    }
   ],
   "source": [
    "# Dati delle azioni\n",
    "num_shares = [100, 1000, 10]  # Numero di azioni emesse da ciascuna società\n",
    "P0 = [10, 100, 1000]  # Prezzi iniziali\n",
    "P1 = [12, 80, 1010]  # Prezzi finali\n",
    "flottante = [90, 200, 3]  # Flottante di mercato delle azioni\n",
    "\n",
    "# Calcola il flottante percentuale (Flott%) per ciascuna azione\n",
    "flottante_percentuale = [float(f) / n for f, n in zip(flottante, num_shares)]\n",
    "\n",
    "# Calcola la somma dei flottanti percentuali (∑Flott%)\n",
    "total_flottante_percentuale = sum(flottante_percentuale)\n",
    "\n",
    "# Calcola il flottante percentuale totale (FF) per ciascuna azione\n",
    "FF = [f_percent / total_flottante_percentuale for f_percent in flottante_percentuale]\n",
    "\n",
    "# Calcola i pesi delle azioni basati sul flottante percentuale (Flott%)\n",
    "weights = [f_percent / total_flottante_percentuale for f_percent in flottante_percentuale]\n",
    "\n",
    "# Calcola le variazioni percentuali per ogni azione (Var%)\n",
    "percentage_changes = [(P1[i] - P0[i]) / P0[i] * 100 for i in range(len(P0))]\n",
    "\n",
    "# Calcola le variazioni percentuali pesate per ogni azione (Var% pesata Flott%)\n",
    "weighted_percentage_changes = [percentage_changes[i] * weights[i] for i in range(len(P0))]\n",
    "\n",
    "# Calcola il valore dell'indice ponderato in base al flottante (FFA)\n",
    "float_weighted_index = sum(weighted_percentage_changes)\n",
    "\n",
    "print(\"Flottante percentuale (Flott%):\", flottante_percentuale)\n",
    "print(\"Flottante percentuale totale (FF) per ciascuna azione:\", FF)\n",
    "print(\"Pesos delle azioni basati sul flottante percentuale (Flott%):\", weights)\n",
    "print(\"Variazioni percentuali:\", percentage_changes)\n",
    "print(\"Variazioni percentuali pesate:\", weighted_percentage_changes)\n",
    "print(\"Valore dell'indice ponderato in base al flottante (FFA):\", float_weighted_index)\n"
   ]
  },
  {
   "cell_type": "markdown",
   "id": "5d9e87ba-8790-4196-b448-b69fa58c4b9c",
   "metadata": {},
   "source": [
    "Questa modalità di calcolo prevedere una ponderazione in base al flottante, dove il flottante non è altro \n",
    "che una quota della capitalizzazione ed è in pratica la porzione di azioni emesse che è liberamente\n",
    "scambiabile sul mercato. \n",
    "Cambiando criterio di ponderazione abbiamo risultati completamente diversi del valore dell’indice. \n",
    "Abbiamo visto una variazione dei tre indici senza mai aver cambiato nulla delle singole performance. \n",
    "Sul piano economico i criteri di misurazione degli indici più completi sono gli ultimi due, l’ultimo è il \n",
    "migliore. \n",
    "Gli indici misurati con la ponderazione price weighed ed equally weighted sono difficilmente replicabili \n",
    "perché la costruzione non assicura che ci sia una quantità di titoli adeguata per poter raggiungere quella \n",
    "quota, in quanto il titolo è assicurato solo dal prezzo, quindi non è detto che l’investitore effettivamente \n",
    "possa sottoscrivere una numerosità tale di quei titoli da poter esattamente replicare l’indice. Quindi \n",
    "tecnicamente gli indici che sono benchmark sono value weighted o free-float adjusted. Da ciò si evince che \n",
    "ogni Benchmark è indice ma non ogni indice è benchmark. "
   ]
  },
  {
   "cell_type": "code",
   "execution_count": null,
   "id": "ea3a76df-9183-45e4-b9f6-489e28f4cf80",
   "metadata": {},
   "outputs": [],
   "source": []
  }
 ],
 "metadata": {
  "kernelspec": {
   "display_name": "Python 3 (ipykernel)",
   "language": "python",
   "name": "python3"
  },
  "language_info": {
   "codemirror_mode": {
    "name": "ipython",
    "version": 3
   },
   "file_extension": ".py",
   "mimetype": "text/x-python",
   "name": "python",
   "nbconvert_exporter": "python",
   "pygments_lexer": "ipython3",
   "version": "3.9.13"
  }
 },
 "nbformat": 4,
 "nbformat_minor": 5
}
